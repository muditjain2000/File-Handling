{
 "cells": [
  {
   "cell_type": "code",
   "execution_count": 1,
   "id": "equipped-attraction",
   "metadata": {},
   "outputs": [
    {
     "name": "stdout",
     "output_type": "stream",
     "text": [
      "hello, world!\n",
      "hello, world!\n",
      "hello, world!\n",
      "hello, world!\n"
     ]
    }
   ],
   "source": [
    "for i in range(0,4):\n",
    "    print(\"hello, world!\")"
   ]
  },
  {
   "cell_type": "code",
   "execution_count": 2,
   "id": "integral-teacher",
   "metadata": {},
   "outputs": [
    {
     "name": "stdout",
     "output_type": "stream",
     "text": [
      "2 3 4 5 "
     ]
    }
   ],
   "source": [
    "def duplicate(lst):\n",
    "    lst1 = []\n",
    "    for i in lst:\n",
    "        if i not in lst1:\n",
    "            lst1.append(i)\n",
    "        else:\n",
    "            print(i,end=' ')\n",
    "lst = [1,2,3,4,5,2,3,4,7,9,5]\n",
    "duplicate(lst)"
   ]
  },
  {
   "cell_type": "code",
   "execution_count": 3,
   "id": "straight-architect",
   "metadata": {},
   "outputs": [
    {
     "data": {
      "text/plain": [
       "[[1, 3, 2], [2, 9, 7], [2, 4]]"
      ]
     },
     "execution_count": 3,
     "metadata": {},
     "output_type": "execute_result"
    }
   ],
   "source": [
    "def group(x,l):\n",
    "        gl=[]\n",
    "        g=[]\n",
    "        i=0\n",
    "        while i<len(x):\n",
    "                if(len(gl)<l):\n",
    "                        gl.append(x[i])\n",
    "                        i=i+1\n",
    "                else:\n",
    "                        g.append(gl)\n",
    "                        gl=[]\n",
    "        g.append(gl)\n",
    "        return g\n",
    "group([1,3,2,2,9,7,2,4],3)"
   ]
  },
  {
   "cell_type": "code",
   "execution_count": 4,
   "id": "wired-patient",
   "metadata": {},
   "outputs": [
    {
     "data": {
      "text/plain": [
       "['a', 'bb', 'ccc', 'dddd']"
      ]
     },
     "execution_count": 4,
     "metadata": {},
     "output_type": "execute_result"
    }
   ],
   "source": [
    "xs = ['dddd','a','bb','ccc']\n",
    "sorted(xs, key=len)"
   ]
  },
  {
   "cell_type": "code",
   "execution_count": 5,
   "id": "severe-alliance",
   "metadata": {},
   "outputs": [
    {
     "name": "stdout",
     "output_type": "stream",
     "text": [
      "['a.c', 'x.c', 'a.py', 'b.py', 'bar.txt', 'foo.txt']\n"
     ]
    }
   ],
   "source": [
    "import os\n",
    "def extsort(x):\n",
    "    i=0\n",
    "    while(i<len(x)):\n",
    "         x[i]=x[i].split('.')\n",
    "         i=i+1\n",
    "    x.sort(key=lambda x:x[1])\n",
    "    i=0\n",
    "    while(i<len(x)):\n",
    "         x[i]=\".\".join(x[i])\n",
    "         i=i+1 \n",
    "    return x\n",
    "print(extsort(['a.c', 'a.py', 'b.py', 'bar.txt', 'foo.txt', 'x.c']))"
   ]
  },
  {
   "cell_type": "code",
   "execution_count": 6,
   "id": "pending-english",
   "metadata": {},
   "outputs": [],
   "source": [
    "f= open(\"guru99.txt\",\"w+\")\n",
    "#f=open(\"guru99.txt\",\"a+\")\n",
    "for i in range(10):\n",
    "    f.write(\"This is line %d\\r\\n\" % (i+1))\n",
    "f.close()   \n",
    "#Open the file back and read the contents\n",
    "#f=open(\"guru99.txt\", \"r\")\n",
    "#   if f.mode == 'r': \n",
    "#     contents =f.read()\n",
    "#     print contents\n",
    "#or, readlines reads the individual line into a list\n",
    "#fl =f.readlines()\n",
    "#for x in fl:\n",
    "#print x"
   ]
  },
  {
   "cell_type": "code",
   "execution_count": 7,
   "id": "resistant-success",
   "metadata": {},
   "outputs": [
    {
     "name": "stdout",
     "output_type": "stream",
     "text": [
      "lines: 3 words: 5 characters: 29\n"
     ]
    }
   ],
   "source": [
    "file = open(\"sample.txt\", \"r\")\n",
    "\n",
    "number_of_lines = 0\n",
    "number_of_words = 0\n",
    "number_of_characters = 0\n",
    "for line in file:\n",
    "  line = line.strip(\"\\n\")\n",
    "\n",
    "  words = line.split()\n",
    "  number_of_lines += 1\n",
    "  number_of_words += len(words)\n",
    "  number_of_characters += len(line)\n",
    "\n",
    "file.close()\n",
    "\n",
    "print(\"lines:\", number_of_lines, \"words:\", number_of_words, \"characters:\", number_of_characters)"
   ]
  },
  {
   "cell_type": "code",
   "execution_count": 8,
   "id": "brown-latitude",
   "metadata": {},
   "outputs": [
    {
     "name": "stdout",
     "output_type": "stream",
     "text": [
      "Goodbye\n",
      "Hello Again\n",
      "\n",
      "Hello World\n",
      "\n"
     ]
    }
   ],
   "source": [
    "textfile = open(\"sample.txt\")\n",
    "lines = textfile.readlines()\n",
    "for line in reversed(lines):\n",
    "    print(line)\n",
    "textfile.close()"
   ]
  },
  {
   "cell_type": "code",
   "execution_count": 9,
   "id": "voluntary-network",
   "metadata": {},
   "outputs": [
    {
     "name": "stdout",
     "output_type": "stream",
     "text": [
      "dlroW olleH\n",
      "niagA olleH\n",
      "eybdooG\n"
     ]
    }
   ],
   "source": [
    "def revline(x):\n",
    "    i=0\n",
    "    z=len(open(x).readlines())\n",
    "    rev=[None]*z\n",
    "    f=open(x)\n",
    "    while(i<z):\n",
    "         rev[i]=f.readline()\n",
    "         rev[i]=rev[i].strip()\n",
    "         print(rev[i][::-1])\n",
    "         i=i+1\n",
    "revline(\"sample.txt\")"
   ]
  },
  {
   "cell_type": "code",
   "execution_count": 10,
   "id": "later-elevation",
   "metadata": {},
   "outputs": [
    {
     "name": "stdout",
     "output_type": "stream",
     "text": [
      "Hello\n",
      " Worl\n",
      "d\n",
      "\n",
      "Hello\n",
      " Agai\n",
      "n\n",
      "\n",
      "Goodb\n",
      "ye\n"
     ]
    }
   ],
   "source": [
    "def wrap(filename,k):\n",
    " f=open(filename).readlines()\n",
    " for i in f:\n",
    "  new=i\n",
    "  while len(new)>k:\n",
    "    print(new[:k])\n",
    "    new=new[k:]\n",
    "  print(new)\n",
    "wrap(\"sample.txt\",5)"
   ]
  },
  {
   "cell_type": "code",
   "execution_count": 11,
   "id": "pharmaceutical-hampshire",
   "metadata": {},
   "outputs": [
    {
     "name": "stdout",
     "output_type": "stream",
     "text": [
      "[0, 2, 4, 6, 8, 10, 12, 14, 16, 18]\n"
     ]
    }
   ],
   "source": [
    "def num (n) :\n",
    "    return n * 2\n",
    "          \n",
    "lst = [x for x in range(10)]\n",
    "x = map(num, lst) \n",
    "print(list(x))  "
   ]
  },
  {
   "cell_type": "code",
   "execution_count": 12,
   "id": "expanded-diameter",
   "metadata": {},
   "outputs": [
    {
     "name": "stdout",
     "output_type": "stream",
     "text": [
      "[0, 4, 16, 36, 64]\n"
     ]
    }
   ],
   "source": [
    "even_squares = [x * x for x in range(10) if x % 2 == 0]\n",
    "print(even_squares)"
   ]
  },
  {
   "cell_type": "code",
   "execution_count": 13,
   "id": "accepted-metro",
   "metadata": {},
   "outputs": [
    {
     "data": {
      "text/plain": [
       "[(1, 1, 2), (1, 2, 3)]"
      ]
     },
     "execution_count": 13,
     "metadata": {},
     "output_type": "execute_result"
    }
   ],
   "source": [
    "def triplets(n): \n",
    "    return [(a,c-a,c) for c in range(2,n) for a in range(1,c//2+1)]\n",
    "triplets(4)"
   ]
  },
  {
   "cell_type": "code",
   "execution_count": 14,
   "id": "thermal-waste",
   "metadata": {},
   "outputs": [
    {
     "name": "stdout",
     "output_type": "stream",
     "text": [
      "Column names are name, department, birthday month\n",
      "\tJohn Smith works in the Accounting department, and was born in November.\n",
      "\tErica Meyers works in the IT department, and was born in March.\n",
      "Processed 3 lines.\n"
     ]
    }
   ],
   "source": [
    "import csv\n",
    "\n",
    "with open('employee_birthday.txt') as csv_file:\n",
    "    csv_reader = csv.reader(csv_file, delimiter=',')\n",
    "    line_count = 0\n",
    "    for row in csv_reader:\n",
    "        if line_count == 0:\n",
    "            print(f'Column names are {\", \".join(row)}')\n",
    "            line_count += 1\n",
    "        else:\n",
    "            print(f'\\t{row[0]} works in the {row[1]} department, and was born in {row[2]}.')\n",
    "            line_count += 1\n",
    "    print(f'Processed {line_count} lines.')"
   ]
  },
  {
   "cell_type": "code",
   "execution_count": 15,
   "id": "explicit-circus",
   "metadata": {},
   "outputs": [
    {
     "name": "stdout",
     "output_type": "stream",
     "text": [
      "Column names are name, department, birthday month\n",
      "\tJohn Smith works in the Accounting department, and was born in November.\n",
      "\tErica Meyers works in the IT department, and was born in March.\n",
      "Processed 3 lines.\n"
     ]
    }
   ],
   "source": [
    "import csv\n",
    "\n",
    "with open('employee_birthday.txt') as csv_file:\n",
    "    csv_reader = csv.reader(csv_file, delimiter=',')\n",
    "    line_count = 0\n",
    "    for row in csv_reader:\n",
    "        if line_count == 0:\n",
    "            print(f'Column names are {\", \".join(row)}')\n",
    "            line_count += 1\n",
    "        else:\n",
    "            print(f'\\t{row[0]} works in the {row[1]} department, and was born in {row[2]}.')\n",
    "            line_count += 1\n",
    "    print(f'Processed {line_count} lines.')"
   ]
  },
  {
   "cell_type": "code",
   "execution_count": 16,
   "id": "alert-commission",
   "metadata": {},
   "outputs": [
    {
     "name": "stdout",
     "output_type": "stream",
     "text": [
      "hefllo\n",
      "hllo\n"
     ]
    },
    {
     "data": {
      "text/plain": [
       "False"
      ]
     },
     "execution_count": 16,
     "metadata": {},
     "output_type": "execute_result"
    }
   ],
   "source": [
    "def mutate(d):\n",
    "    ret=[d]\n",
    "    i=0 \n",
    "    l=len(d)\n",
    "    alp=map(chr,range(97,123))\n",
    "    \n",
    "    while i<l:\n",
    "        cop=d\n",
    "        ret.append(cop[:i]+cop[i+1:])\n",
    "        if i<l-2:\n",
    "            ret.append(cop[:i]+cop[i+1]+cop[i]+cop[i+2:])\n",
    "        elif i<l-1:\n",
    "            ret.append(cop[:i]+cop[i+1]+cop[i]) \n",
    "        for x in alp:\n",
    "            ret.append(cop[:i]+x+cop[i+1:])\n",
    "        for x in alp:\n",
    "            ret.append(d+x)\n",
    "            ret.append(x+d)\n",
    "            ret.append(cop[:i]+x+cop[i:])\n",
    "        i=i+1\n",
    "    return ret\n",
    "print('hefllo') in mutate('hello')\n",
    "print('hllo') in mutate('hello')"
   ]
  },
  {
   "cell_type": "code",
   "execution_count": 17,
   "id": "improving-scroll",
   "metadata": {},
   "outputs": [
    {
     "name": "stdout",
     "output_type": "stream",
     "text": [
      "Enter first string::\n",
      "rise\n",
      "Enter second string::\n",
      "risee\n",
      "Strings are nearly equal.\n"
     ]
    }
   ],
   "source": [
    "def nearly_equal(str1,str2):\n",
    "    count=0\n",
    "    i=j=0\n",
    "    while(i<len(str1) and j<len(str2)):\n",
    "        if(str1[i]!=str2[j]):\n",
    "            count=count+1\n",
    "            if(len(str1)>len(str2)):\n",
    "                i=i+1\n",
    "            elif(len(str1)==len(str2)):\n",
    "                pass\n",
    "            else:\n",
    "                i=i-1\n",
    "        if(count>1):\n",
    "            return False\n",
    "        i=i+1\n",
    "        j=j+1\n",
    "    if(count<2):\n",
    "            return True\n",
    "  \n",
    "str1=input(\"Enter first string::\\n\")\n",
    "str2=input(\"Enter second string::\\n\")\n",
    "boolean=nearly_equal(str1,str2)\n",
    "if(boolean):\n",
    "    print(\"Strings are nearly equal.\")\n",
    "else:\n",
    "    print(\"Strings are not equal.\")"
   ]
  },
  {
   "cell_type": "code",
   "execution_count": 18,
   "id": "stock-ethnic",
   "metadata": {},
   "outputs": [
    {
     "name": "stdout",
     "output_type": "stream",
     "text": [
      "{'H': 2, 'e': 3, 'l': 5, 'o': 5, ' ': 2, 'W': 1, 'r': 1, 'd': 2, '\\n': 2, 'A': 1, 'g': 1, 'a': 1, 'i': 1, 'n': 1, 'G': 1, 'b': 1, 'y': 1}\n",
      "\n",
      "\n",
      "It is a text file.\n"
     ]
    }
   ],
   "source": [
    "f=\"sample.txt\"\n",
    "file = open ( f, \"r\" )\n",
    "a=[]\n",
    "b={}\n",
    "for i in file:\n",
    "    for j in range(0,len(i)):\n",
    "        a.append(i[j])\n",
    "for i in a:\n",
    "    if i in b:\n",
    "        b[i]+=1\n",
    "    else:\n",
    "        b[i]=1\n",
    "print(b)\n",
    "c=f.split(\".\")\n",
    "if c[1]==\"txt\":\n",
    "    print(\"\\n\\nIt is a text file.\")\n",
    "elif c[1]==\"cpp\":\n",
    "    print(\"\\n\\nIt is a c++ file.\")\n",
    "else:\n",
    "    print(\"\\n\\nIt is a c file.\")"
   ]
  },
  {
   "cell_type": "code",
   "execution_count": 19,
   "id": "comparative-circulation",
   "metadata": {},
   "outputs": [
    {
     "name": "stdout",
     "output_type": "stream",
     "text": [
      "dict_values([['soupe', 'souep', 'peuos'], ['tea', 'tae', 'eat', 'ate'], ['done', 'node'], ['bhia', 'ihba', 'abhi']])\n"
     ]
    }
   ],
   "source": [
    "def anagrams(x):\n",
    "        from itertools import permutations\n",
    "        s={}\n",
    "        while len(x)>0:\n",
    "                x1=x.pop()\n",
    "                s[x1]=s.get(x1,[])\n",
    "                s[x1].append(x1)\n",
    "                i=0\n",
    "                while i<len(x):\n",
    "                        z1=x[i]\n",
    "                        perm=[''.join(p) for p in permutations(x1)]\n",
    "                        if z1 in perm:\n",
    "                                x.remove(z1)\n",
    "                                s[x1].append(z1)\n",
    "                        else:i=i+1\n",
    "        return s.values()\n",
    "print(anagrams(['tae','souep','eat','ihba','node','peuos','ate','abhi','bhia','done','tea','soupe']))"
   ]
  }
 ],
 "metadata": {
  "kernelspec": {
   "display_name": "Python 3",
   "language": "python",
   "name": "python3"
  },
  "language_info": {
   "codemirror_mode": {
    "name": "ipython",
    "version": 3
   },
   "file_extension": ".py",
   "mimetype": "text/x-python",
   "name": "python",
   "nbconvert_exporter": "python",
   "pygments_lexer": "ipython3",
   "version": "3.9.2"
  }
 },
 "nbformat": 4,
 "nbformat_minor": 5
}
