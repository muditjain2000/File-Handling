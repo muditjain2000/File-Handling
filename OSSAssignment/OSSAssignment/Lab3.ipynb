{
 "cells": [
  {
   "cell_type": "code",
   "execution_count": 1,
   "id": "hourly-gauge",
   "metadata": {},
   "outputs": [],
   "source": [
    "import numpy as np"
   ]
  },
  {
   "cell_type": "code",
   "execution_count": 2,
   "id": "cubic-thousand",
   "metadata": {},
   "outputs": [
    {
     "name": "stdout",
     "output_type": "stream",
     "text": [
      "Enter the number of elements you want in the list:4\n",
      "1\n",
      "2\n",
      "2\n",
      "1\n",
      "[[1 2]\n",
      " [2 2]]\n"
     ]
    }
   ],
   "source": [
    "lst = []\n",
    "n = int(input('Enter the number of elements you want in the list:'))\n",
    "for i in range(0,n):\n",
    "    ele = int(input())\n",
    "    lst.append(ele)\n",
    "#print(lst)\n",
    "listArray = np.array(lst)\n",
    "#print(listArray)\n",
    "(unique,counts) = np.unique(listArray,return_counts = True)\n",
    "frequencies = np.asarray((unique,counts)).T\n",
    "print(frequencies)"
   ]
  },
  {
   "cell_type": "code",
   "execution_count": 3,
   "id": "threaded-fancy",
   "metadata": {},
   "outputs": [
    {
     "name": "stdout",
     "output_type": "stream",
     "text": [
      "[1 1 1 1 0 0 0]\n"
     ]
    }
   ],
   "source": [
    "def shift(arr,n):\n",
    "    count = 0\n",
    "    for i in range(0,n):\n",
    "        if(arr[i] == 1):\n",
    "            count += 1\n",
    "    for i in range(0,count):\n",
    "        arr[i] = 1\n",
    "    for i in range(count,n):\n",
    "        arr[i] = 0\n",
    "    arr = np.asarray(arr)\n",
    "    print(arr)\n",
    "arr = [1,0,1,0,0,1,1]\n",
    "n = len(arr)\n",
    "shift(arr,n)"
   ]
  },
  {
   "cell_type": "code",
   "execution_count": 4,
   "id": "laden-peripheral",
   "metadata": {},
   "outputs": [
    {
     "name": "stdout",
     "output_type": "stream",
     "text": [
      "ython\n",
      "Pyton\n",
      "Pytho\n"
     ]
    }
   ],
   "source": [
    "def remove_char(str,n):\n",
    "    first = str[:n]\n",
    "    second = str[n+1:]\n",
    "    return first + second\n",
    "print(remove_char('Python', 0))\n",
    "print(remove_char('Python', 3))\n",
    "print(remove_char('Python', 5))"
   ]
  },
  {
   "cell_type": "code",
   "execution_count": 5,
   "id": "norman-poetry",
   "metadata": {},
   "outputs": [
    {
     "name": "stdout",
     "output_type": "stream",
     "text": [
      "[[1. 1. 1.]\n",
      " [1. 1. 1.]\n",
      " [1. 1. 1.]]\n",
      "\n",
      "[[0. 0. 0. 0. 0.]\n",
      " [0. 1. 1. 1. 0.]\n",
      " [0. 1. 1. 1. 0.]\n",
      " [0. 1. 1. 1. 0.]\n",
      " [0. 0. 0. 0. 0.]]\n"
     ]
    }
   ],
   "source": [
    "mat = np.ones((3,3))\n",
    "print(mat)\n",
    "print()\n",
    "mat = np.pad(mat,pad_width=1,mode='constant',constant_values=0)\n",
    "print(mat)"
   ]
  },
  {
   "cell_type": "code",
   "execution_count": 6,
   "id": "boring-validity",
   "metadata": {},
   "outputs": [
    {
     "name": "stdout",
     "output_type": "stream",
     "text": [
      "Array1:  [ 0 10 20 40 60]\n",
      "Array2:  [ 0 40]\n",
      "Comparison of each element: \n",
      "[ True False False  True False]\n"
     ]
    }
   ],
   "source": [
    "Array1 = np.array([0,10,20,40,60])\n",
    "print('Array1: ',Array1)\n",
    "Array2 = np.array([0,40])\n",
    "print('Array2: ',Array2)\n",
    "print('Comparison of each element: ')\n",
    "print(np.in1d(Array1,Array2))"
   ]
  },
  {
   "cell_type": "code",
   "execution_count": 7,
   "id": "spectacular-arnold",
   "metadata": {},
   "outputs": [
    {
     "name": "stdout",
     "output_type": "stream",
     "text": [
      "Array1:  [ 0 10 20 40 60 80]\n",
      "Array2:  [10 30 40 50 70]\n",
      "Exclusive OR of the two arrays: \n",
      "[ 0 20 30 50 60 70 80]\n"
     ]
    }
   ],
   "source": [
    "Array1 = np.array([0,10,20,40,60,80])\n",
    "print('Array1: ',Array1)\n",
    "Array2 = np.array([10,30,40,50,70])\n",
    "print('Array2: ',Array2)\n",
    "print('Exclusive OR of the two arrays: ')\n",
    "print(np.setxor1d(Array1,Array2))"
   ]
  },
  {
   "cell_type": "code",
   "execution_count": 8,
   "id": "ethical-museum",
   "metadata": {},
   "outputs": [
    {
     "name": "stdout",
     "output_type": "stream",
     "text": [
      "Array1:  [ 0 10 20 40 60 80]\n",
      "Array2:  [10 20 30 40 50 70]\n",
      "Vertical stack of the two arrays: \n",
      "[[ 0 10]\n",
      " [10 20]\n",
      " [20 30]\n",
      " [40 40]\n",
      " [60 50]\n",
      " [80 70]]\n"
     ]
    }
   ],
   "source": [
    "Array1 = np.array([0,10,20,40,60,80])\n",
    "print('Array1: ',Array1)\n",
    "Array2 = np.array([10,20,30,40,50,70])\n",
    "print('Array2: ',Array2)\n",
    "print(\"Vertical stack of the two arrays: \")\n",
    "print(np.column_stack((Array1,Array2)))"
   ]
  },
  {
   "cell_type": "code",
   "execution_count": 9,
   "id": "acceptable-planet",
   "metadata": {},
   "outputs": [
    {
     "name": "stdout",
     "output_type": "stream",
     "text": [
      "Enter the number of rows: 2\n",
      "Enter the number of columns: 2\n",
      "Enter the entries rowwise\n",
      "1\n",
      "2\n",
      "3\n",
      "4\n",
      "The matrix is: \n",
      "[[1 2]\n",
      " [3 4]]\n",
      "The rank of the matrix is: \n",
      "2\n",
      "The trace of the matrix is: \n",
      "5\n",
      "The determinant of the matrix is: \n",
      "-2.0000000000000004\n"
     ]
    }
   ],
   "source": [
    "r = int(input('Enter the number of rows: '))\n",
    "c = int(input('Enter the number of columns: '))\n",
    "matrix = []\n",
    "print('Enter the entries rowwise')\n",
    "for i in range(r):\n",
    "    a = []\n",
    "    for j in range(c):\n",
    "        a.append(int(input()))\n",
    "    matrix.append(a)\n",
    "matrix = np.asmatrix(matrix)\n",
    "print(\"The matrix is: \")\n",
    "print(matrix)\n",
    "print(\"The rank of the matrix is: \")\n",
    "print(np.linalg.matrix_rank(matrix))\n",
    "print(\"The trace of the matrix is: \")\n",
    "print(np.trace(matrix))\n",
    "print(\"The determinant of the matrix is: \")\n",
    "print(np.linalg.det(matrix))"
   ]
  }
 ],
 "metadata": {
  "kernelspec": {
   "display_name": "Python 3",
   "language": "python",
   "name": "python3"
  },
  "language_info": {
   "codemirror_mode": {
    "name": "ipython",
    "version": 3
   },
   "file_extension": ".py",
   "mimetype": "text/x-python",
   "name": "python",
   "nbconvert_exporter": "python",
   "pygments_lexer": "ipython3",
   "version": "3.9.2"
  }
 },
 "nbformat": 4,
 "nbformat_minor": 5
}
