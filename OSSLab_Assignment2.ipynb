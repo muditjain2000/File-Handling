{
  "nbformat": 4,
  "nbformat_minor": 0,
  "metadata": {
    "kernelspec": {
      "display_name": "Python 3",
      "language": "python",
      "name": "python3"
    },
    "language_info": {
      "codemirror_mode": {
        "name": "ipython",
        "version": 3
      },
      "file_extension": ".py",
      "mimetype": "text/x-python",
      "name": "python",
      "nbconvert_exporter": "python",
      "pygments_lexer": "ipython3",
      "version": "3.8.5"
    },
    "colab": {
      "name": "OSSLab_Assignment2.ipynb",
      "provenance": []
    }
  },
  "cells": [
    {
      "cell_type": "code",
      "metadata": {
        "id": "B8ycpQ8sy3Zs"
      },
      "source": [
        ""
      ],
      "execution_count": null,
      "outputs": []
    },
    {
      "cell_type": "code",
      "metadata": {
        "id": "SXrdOwKVy3Zu",
        "outputId": "43a0655d-68ee-44c2-daa8-81288af2aed0"
      },
      "source": [
        "#Q1\n",
        "for i in range(0,4):\n",
        "    print(\"hello, world\")"
      ],
      "execution_count": null,
      "outputs": [
        {
          "output_type": "stream",
          "text": [
            "hello, world\n",
            "hello, world\n",
            "hello, world\n",
            "hello, world\n"
          ],
          "name": "stdout"
        }
      ]
    },
    {
      "cell_type": "code",
      "metadata": {
        "id": "sKaUT22ay3Zv",
        "outputId": "2c0f76d6-5323-457e-abdd-bb94f9104388"
      },
      "source": [
        "#Q2\n",
        "def duplicate(lst):\n",
        "    lst1 = []\n",
        "    for i in lst:\n",
        "        if i not in lst1:\n",
        "            lst1.append(i)\n",
        "        else:\n",
        "            print(i,end=' ')\n",
        "lst = [1,2,3,4,5,2,3,4,7,9,5]\n",
        "duplicate(lst)"
      ],
      "execution_count": null,
      "outputs": [
        {
          "output_type": "stream",
          "text": [
            "2 3 4 5 "
          ],
          "name": "stdout"
        }
      ]
    },
    {
      "cell_type": "code",
      "metadata": {
        "id": "2R8Kr8RSy3Zv",
        "outputId": "d46211ac-690e-49d1-bdc6-807efa71379c"
      },
      "source": [
        "#Q3\n",
        "def group(x,l):\n",
        "    gl=[]\n",
        "    g=[]\n",
        "    i=0\n",
        "    while i<len(x):\n",
        "        if(len(gl)<l):\n",
        "            gl.append(x[i])\n",
        "            i=i+1\n",
        "        else:\n",
        "            g.append(gl)\n",
        "            gl=[]\n",
        "    g.append(gl)\n",
        "    return g\n",
        "group([1,3,2,2,9,7,2,4],3)"
      ],
      "execution_count": null,
      "outputs": [
        {
          "output_type": "execute_result",
          "data": {
            "text/plain": [
              "[[1, 3, 2], [2, 9, 7], [2, 4]]"
            ]
          },
          "metadata": {
            "tags": []
          },
          "execution_count": 3
        }
      ]
    },
    {
      "cell_type": "code",
      "metadata": {
        "id": "NlvA-9zmy3Zw",
        "outputId": "0d347088-79fb-43aa-84fa-e29d6132254c"
      },
      "source": [
        "#Q4\n",
        "xs = ['dddd','a','bb','ccc']\n",
        "sorted(xs, key=len)"
      ],
      "execution_count": null,
      "outputs": [
        {
          "output_type": "execute_result",
          "data": {
            "text/plain": [
              "['a', 'bb', 'ccc', 'dddd']"
            ]
          },
          "metadata": {
            "tags": []
          },
          "execution_count": 4
        }
      ]
    },
    {
      "cell_type": "code",
      "metadata": {
        "id": "rCw7rbNAy3Zw",
        "outputId": "fa356825-6631-43cf-925f-988f475e9647"
      },
      "source": [
        "#Q5\n",
        "import os\n",
        "def extsort(x):\n",
        "    i=0\n",
        "    while(i<len(x)):\n",
        "        x[i]=x[i].split('.')\n",
        "        i=i+1\n",
        "    x.sort(key=lambda x:x[1])\n",
        "    i=0\n",
        "    while(i<len(x)):\n",
        "        x[i]=\".\".join(x[i])\n",
        "        i=i+1\n",
        "    return x\n",
        "print(extsort(['a.c','a.py','b.py','bar.txt','foo.txt','x.c']))"
      ],
      "execution_count": null,
      "outputs": [
        {
          "output_type": "stream",
          "text": [
            "['a.c', 'x.c', 'a.py', 'b.py', 'bar.txt', 'foo.txt']\n"
          ],
          "name": "stdout"
        }
      ]
    },
    {
      "cell_type": "code",
      "metadata": {
        "id": "EcBYBNyHy3Zw",
        "outputId": "15a9544f-6356-4835-fe66-cf048640ab27"
      },
      "source": [
        "#Q6\n",
        "f=open(\"new.txt\",\"w+\")\n",
        "for i in range(10):\n",
        "    f.write(\"This is sample text and line no %d\\r\\n\" %(i+1))\n",
        "f.close()\n",
        "f = open(\"new.txt\",\"r\")\n",
        "if f.mode == 'r':\n",
        "    contents = f.read()\n",
        "    print (contents)"
      ],
      "execution_count": null,
      "outputs": [
        {
          "output_type": "stream",
          "text": [
            "This is sample text and line no 1\n",
            "\n",
            "This is sample text and line no 2\n",
            "\n",
            "This is sample text and line no 3\n",
            "\n",
            "This is sample text and line no 4\n",
            "\n",
            "This is sample text and line no 5\n",
            "\n",
            "This is sample text and line no 6\n",
            "\n",
            "This is sample text and line no 7\n",
            "\n",
            "This is sample text and line no 8\n",
            "\n",
            "This is sample text and line no 9\n",
            "\n",
            "This is sample text and line no 10\n",
            "\n",
            "\n"
          ],
          "name": "stdout"
        }
      ]
    },
    {
      "cell_type": "code",
      "metadata": {
        "id": "OMonM-z4y3Zx",
        "outputId": "3227293c-c174-4c5f-ac7e-f0d5628c88a3"
      },
      "source": [
        "#Q7\n",
        "file = open(\"sample.txt\",\"r\")\n",
        "number_of_lines = 0\n",
        "number_of_words = 0\n",
        "number_of_characters = 0\n",
        "for line in file:\n",
        "    line = line.strip(\"\\n\")\n",
        "    words = line.split()\n",
        "number_of_lines += 1\n",
        "number_of_words += len(words)\n",
        "number_of_characters += len(line)\n",
        "file.close()\n",
        "print(\"lines:\",number_of_lines,\"words:\",number_of_words,\"characters:\",number_of_characters)"
      ],
      "execution_count": null,
      "outputs": [
        {
          "output_type": "stream",
          "text": [
            "lines: 1 words: 2 characters: 13\n"
          ],
          "name": "stdout"
        }
      ]
    },
    {
      "cell_type": "code",
      "metadata": {
        "id": "bEuLKvvAy3Zx",
        "outputId": "a3d4358a-92e1-4baf-c7e3-38e83e8c2788"
      },
      "source": [
        "#Q8\n",
        "textfile = open(\"sample.txt\")\n",
        "lines = textfile.readlines()\n",
        "for line in reversed(lines):\n",
        "    print(line)\n",
        "textfile.close()"
      ],
      "execution_count": null,
      "outputs": [
        {
          "output_type": "stream",
          "text": [
            "Welcome again\n",
            "\n",
            "\n",
            "Goodbye\n",
            "\n",
            "\n",
            "\n",
            "Welcome\n",
            "\n",
            "\n",
            "\n",
            "Hello world!\n",
            "\n"
          ],
          "name": "stdout"
        }
      ]
    },
    {
      "cell_type": "code",
      "metadata": {
        "id": "8SiFCzPHy3Zx",
        "outputId": "c3b977da-67c6-4c90-a16f-1d33c48da969"
      },
      "source": [
        "#Q9\n",
        "def revline(x):\n",
        "    i=0\n",
        "    z=len(open(x).readlines())\n",
        "    rev=[None]*z\n",
        "    f=open(x)\n",
        "    while(i<z):\n",
        "         rev[i]=f.readline()\n",
        "         rev[i]=rev[i].strip()\n",
        "         print(rev[i][::-1])\n",
        "         i=i+1\n",
        "revline(\"sample.txt\")"
      ],
      "execution_count": null,
      "outputs": [
        {
          "output_type": "stream",
          "text": [
            "!dlrow olleH\n",
            "\n",
            "emocleW\n",
            "\n",
            "eybdooG\n",
            "\n",
            "niaga emocleW\n"
          ],
          "name": "stdout"
        }
      ]
    },
    {
      "cell_type": "code",
      "metadata": {
        "id": "cDNWAeYVy3Zy",
        "outputId": "62f7ef47-0acf-4610-b841-7f9b15cc6727"
      },
      "source": [
        "#Q10\n",
        "def wrap(filename,k):\n",
        "    f=open(filename).readlines()\n",
        "    for i in f:\n",
        "        new = i\n",
        "        while len(new)>k:\n",
        "            print(new[:k])\n",
        "            new=new[k:]\n",
        "            print(new)\n",
        "wrap(\"sample.txt\",5)"
      ],
      "execution_count": null,
      "outputs": [
        {
          "output_type": "stream",
          "text": [
            "Hello\n",
            " world!\n",
            "\n",
            " worl\n",
            "d!\n",
            "\n",
            "Welco\n",
            "me\n",
            "\n",
            "Goodb\n",
            "ye\n",
            "\n",
            "Welco\n",
            "me again\n",
            "me ag\n",
            "ain\n"
          ],
          "name": "stdout"
        }
      ]
    },
    {
      "cell_type": "code",
      "metadata": {
        "id": "rMeypVpmy3Zy",
        "outputId": "e565d4ad-b892-4a29-be2b-707282ac8984"
      },
      "source": [
        "#Q11\n",
        "def num(n):\n",
        "    return n*2\n",
        "lst = [x for x in range(10)]\n",
        "x = map(num,lst)\n",
        "print(list(x))"
      ],
      "execution_count": null,
      "outputs": [
        {
          "output_type": "stream",
          "text": [
            "[0, 2, 4, 6, 8, 10, 12, 14, 16, 18]\n"
          ],
          "name": "stdout"
        }
      ]
    },
    {
      "cell_type": "code",
      "metadata": {
        "id": "P4SK113dy3Zy",
        "outputId": "3748a055-08f1-4ff3-ea68-9ec072491358"
      },
      "source": [
        "#Q12\n",
        "even_squares = [x*x for x in range(10) if x %2 == 0]\n",
        "print(even_squares)"
      ],
      "execution_count": null,
      "outputs": [
        {
          "output_type": "stream",
          "text": [
            "[0, 4, 16, 36, 64]\n"
          ],
          "name": "stdout"
        }
      ]
    },
    {
      "cell_type": "code",
      "metadata": {
        "id": "G7LhBteYy3Zy",
        "outputId": "226ed17c-8945-48e9-9565-49913725ccbf"
      },
      "source": [
        "#Q13\n",
        "def triplets(n):\n",
        "    return[(a,c-a,c) for c in range(2,n) for a in range(1,c//2+1)]\n",
        "triplets(4)"
      ],
      "execution_count": null,
      "outputs": [
        {
          "output_type": "execute_result",
          "data": {
            "text/plain": [
              "[(1, 1, 2), (1, 2, 3)]"
            ]
          },
          "metadata": {
            "tags": []
          },
          "execution_count": 13
        }
      ]
    },
    {
      "cell_type": "code",
      "metadata": {
        "id": "TWrV9xvly3Zz",
        "outputId": "f1649478-93c1-47ac-dbe4-892308a60b14"
      },
      "source": [
        "#Q14\n",
        "import csv\n",
        "\n",
        "with open('employee_birthday.txt', mode='r') as csv_file:\n",
        "    csv_reader = csv.DictReader(csv_file)\n",
        "    line_count = 0\n",
        "    for row in csv_reader:\n",
        "        if line_count == 0:\n",
        "            print(f'Column names are {\", \".join(row)}')\n",
        "            line_count += 1\n",
        "        print(f'\\t{row[\"name\"]} works in the {row[\"department\"]} department, and was born in {row[\"birthday month\"]}.')\n",
        "        line_count += 1\n",
        "    print(f'Processed {line_count} lines.')"
      ],
      "execution_count": null,
      "outputs": [
        {
          "output_type": "stream",
          "text": [
            "Column names are name, department, birthday month\n",
            "\tJohn Smith works in the Accounting department, and was born in November.\n",
            "\tErica Meyers works in the IT department, and was born in March.\n",
            "\tSam Wilson works in the Marketing department, and was born in July.\n",
            "Processed 4 lines.\n"
          ],
          "name": "stdout"
        }
      ]
    },
    {
      "cell_type": "code",
      "metadata": {
        "id": "Dsm-LF4gy3Zz",
        "outputId": "b22e4f7d-8312-43db-a9ee-d83ed45f7589"
      },
      "source": [
        "#Q15\n",
        "import csv\n",
        "\n",
        "with open('employee_birthday.txt') as csv_file:\n",
        "    csv_reader = csv.reader(csv_file, delimiter=',')\n",
        "    line_count = 0\n",
        "    for row in csv_reader:\n",
        "        if line_count == 0:\n",
        "            print(f'Column names are {\", \".join(row)}')\n",
        "            line_count += 1\n",
        "        else:\n",
        "            print(f'\\t{row[0]} works in the {row[1]} department, and was born in {row[2]}.')\n",
        "            line_count += 1\n",
        "    print(f'Processed {line_count} lines.')"
      ],
      "execution_count": null,
      "outputs": [
        {
          "output_type": "stream",
          "text": [
            "Column names are name, department, birthday month\n",
            "\tJohn Smith works in the Accounting department, and was born in November.\n",
            "\tErica Meyers works in the IT department, and was born in March.\n",
            "\tSam Wilson works in the Marketing department, and was born in July.\n",
            "Processed 4 lines.\n"
          ],
          "name": "stdout"
        }
      ]
    },
    {
      "cell_type": "code",
      "metadata": {
        "id": "-4I0syBiy3Zz"
      },
      "source": [
        "#Q16\n",
        "def mutate(d):\n",
        "    ret=[d]\n",
        "    i=0\n",
        "    l=len(d)\n",
        "    alp=map(chr,range(97,123))\n",
        "    \n",
        "    while i<l:\n",
        "          cop=d\n",
        "    ret.append(cop[:i]+cop[i+1:])\n",
        "if    i<=l-2:\n",
        "        ret.append(cop[:i]+cop[i+1]+cop[i]+cop[i+2:])\n",
        "elif  i<l-1:\n",
        "        ret.append(cop[:i]+cop[i+1]+cop[i]) \n",
        "for x in alp:\n",
        "        ret.append(cop[:i]+x+cop[i+1:])\n",
        "for x in alp:\n",
        "              ret.append(d+x)\n",
        "              ret.append(x+d)\n",
        "              ret.append(cop[:i]+x+cop[i:])\n",
        "i=i+1\n",
        "return ret\n",
        "print ('hefllo') in mutate('hello')\n",
        "print ('hllo') in mutate('hello')"
      ],
      "execution_count": null,
      "outputs": []
    },
    {
      "cell_type": "code",
      "metadata": {
        "id": "xtjvxRWay3Zz",
        "outputId": "f05250e4-4864-4498-8258-1f64653a10a9"
      },
      "source": [
        "#Q17\n",
        "def nearly_equal(str1,str2):\n",
        "    count=0\n",
        "    i=0\n",
        "    j=0\n",
        "    while(i<len(str1) and j<len(str2)):\n",
        "        if(str1[i]!=str2[j]):\n",
        "            count=count+1\n",
        "            if(len(str1)>len(str2)):\n",
        "                i=i+1\n",
        "            elif(len(str1)==len(str2)):\n",
        "                 pass\n",
        "            else:\n",
        "                 i=i-1\n",
        "            if(count>1):\n",
        "                 return False\n",
        "                 i=i+1\n",
        "                 j=j+1\n",
        "            if(count<2):\n",
        "                 return True\n",
        "str1=input(\"Enter first string: \")\n",
        "str2=input(\"Enter second string: \")\n",
        "boolean=nearly_equal(str1,str2)\n",
        "if(boolean):\n",
        "                 print(\"Strings are nearly equal\")\n",
        "else:\n",
        "                 print(\"Strings are not equal\")"
      ],
      "execution_count": null,
      "outputs": [
        {
          "output_type": "stream",
          "text": [
            "Enter first string: Rise\n",
            "Enter second string: risee\n",
            "Strings are nearly equal\n"
          ],
          "name": "stdout"
        }
      ]
    },
    {
      "cell_type": "code",
      "metadata": {
        "id": "R3rLzF6Wy3Z0",
        "outputId": "f679a56f-09a6-4e55-9519-f8d4ca75ae71"
      },
      "source": [
        "#Q18\n",
        "f=\"sample.txt\"\n",
        "file= open(f,\"r\")\n",
        "a=[]\n",
        "b={}\n",
        "for i in file:\n",
        "    for j in range(0,len(i)):\n",
        "        a.append(i[j])\n",
        "for i in a:\n",
        "    if i in b:\n",
        "        b[i]+=1\n",
        "    else:\n",
        "        b[i]=1\n",
        "print(b)\n",
        "c=f.split(\".\")\n",
        "if c[1]==\"txt\":\n",
        "    print(\"\\n\\nIt is a text file\")\n",
        "elif c[1]==\"cpp\":\n",
        "    print(\"\\n\\nIt is a C++ file\")\n",
        "else:\n",
        "    print(\"\\n\\nIt is a C file\")"
      ],
      "execution_count": null,
      "outputs": [
        {
          "output_type": "stream",
          "text": [
            "{'H': 1, 'e': 6, 'l': 5, 'o': 6, ' ': 2, 'w': 1, 'r': 1, 'd': 2, '!': 1, '\\n': 6, 'W': 2, 'c': 2, 'm': 2, 'G': 1, 'b': 1, 'y': 1, 'a': 2, 'g': 1, 'i': 1, 'n': 1}\n",
            "\n",
            "\n",
            "It is a text file\n"
          ],
          "name": "stdout"
        }
      ]
    },
    {
      "cell_type": "code",
      "metadata": {
        "id": "-I7Jw1v4y3Z0",
        "outputId": "7203edec-3d92-4431-b88c-acdfb8341f1c"
      },
      "source": [
        "#19\n",
        "def anagrams(x):\n",
        "    from itertools import permutations\n",
        "    s={}\n",
        "    while len(x)>0:\n",
        "        x1=x.pop()\n",
        "        s[x1]=s.get(x1,[])\n",
        "        s[x1].append(x1)\n",
        "        i=0\n",
        "        while i<len(x):\n",
        "            z1=x[i]\n",
        "            perm=[''.join(p) for p in permutations(x1)]\n",
        "            if z1 in perm:\n",
        "                x.remove(z1)\n",
        "                s[x1].append(z1)\n",
        "            else:i=i+1\n",
        "        return s.values()\n",
        "print(anagrams(['tae','souep','eat','ihba','node','peuos','ate','abhi','bhia','done','soupe','tea']))\n"
      ],
      "execution_count": null,
      "outputs": [
        {
          "output_type": "stream",
          "text": [
            "dict_values([['tea', 'tae', 'eat', 'ate']])\n"
          ],
          "name": "stdout"
        }
      ]
    },
    {
      "cell_type": "code",
      "metadata": {
        "id": "OxN62zo7y3Z1"
      },
      "source": [
        ""
      ],
      "execution_count": null,
      "outputs": []
    }
  ]
}